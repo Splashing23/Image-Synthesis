{
 "cells": [
  {
   "cell_type": "code",
   "execution_count": 1,
   "metadata": {},
   "outputs": [],
   "source": [
    "import torch\n",
    "import torchvision\n",
    "from torch import nn\n",
    "from torch import optim\n",
    "from torchvision import datasets\n",
    "from torchvision.transforms import v2 as T\n",
    "from torch.utils.data import Dataset, DataLoader\n",
    "from tqdm import tqdm\n",
    "import matplotlib.pyplot as plt\n",
    "from IPython.display import clear_output"
   ]
  },
  {
   "cell_type": "code",
   "execution_count": 2,
   "metadata": {},
   "outputs": [],
   "source": [
    "T = 1000\n",
    "schedule = torch.linspace(1, 0.001, T)\n",
    "def forward_diffuse(x, timestep, schedule=schedule):\n",
    "    noise = torch.randn_like(x)\n",
    "    alpha = schedule[timestep]\n",
    "    return torch.sqrt(alpha) * x + torch.sqrt(1 - alpha) * noise, noise"
   ]
  },
  {
   "cell_type": "code",
   "execution_count": 3,
   "metadata": {},
   "outputs": [],
   "source": [
    "class BackwardDiffuse(nn.Module):\n",
    "    def __init__(self):\n",
    "        super().__init__()\n",
    "        self.conv1 = nn.Conv2d(3, 128, kernel_size=3, padding=1)\n",
    "        # self.conv2 = nn.Conv2d(128, 128, kernel_size=3, padding=1)\n",
    "        # self.conv3 = nn.Conv2d(128, 128, kernel_size=3, padding=1)\n",
    "        # self.conv4 = nn.Conv2d(128, 128, kernel_size=3, padding=1)\n",
    "        # self.conv5 = nn.Conv2d(128, 128, kernel_size=3, padding=1)\n",
    "        # self.conv6 = nn.Conv2d(128, 128, kernel_size=3, padding=1)\n",
    "        # self.conv7 = nn.Conv2d(128, 128, kernel_size=3, padding=1)\n",
    "        self.conv8 = nn.Conv2d(128, 3, kernel_size=3, padding=1)\n",
    "        self.relu = nn.ReLU()\n",
    "\n",
    "    def forward(self, x):\n",
    "        x = self.relu(self.conv1(x))\n",
    "        # x = self.relu(self.conv2(x))\n",
    "        # x = self.relu(self.conv3(x))\n",
    "        # x = self.relu(self.conv4(x))\n",
    "        # x = self.relu(self.conv5(x))\n",
    "        # x = self.relu(self.conv6(x))\n",
    "        # x = self.relu(self.conv7(x))\n",
    "        x = self.conv8(x)\n",
    "        return x"
   ]
  },
  {
   "cell_type": "code",
   "execution_count": 4,
   "metadata": {},
   "outputs": [],
   "source": [
    "mean = torch.tensor([0.485, 0.456, 0.406])\n",
    "std = torch.tensor([0.229, 0.224, 0.225])\n",
    "transform = T.Compose([\n",
    "    T.ToImage(),\n",
    "    T.Resize(size=(32, 32), antialias=True),\n",
    "    T.ToDtype(torch.float32, scale=True),\n",
    "    # T.Normalize(mean=mean, std=std),\n",
    "])"
   ]
  },
  {
   "cell_type": "code",
   "execution_count": null,
   "metadata": {},
   "outputs": [],
   "source": [
    "class CustomDataset(Dataset):\n",
    "    def __init__(self, root_dir, transform):\n",
    "        super().__init__()\n",
    "        self.root_dir = root_dir\n",
    "        self.transform = transform\n",
    "\n",
    "train_data = datasets.CIFAR10(\n",
    "    root=\"data\",\n",
    "    download=True,\n",
    "    transform=transform\n",
    ")\n",
    "\n",
    "train_loader = DataLoader(dataset=train_data, batch_size=512, shuffle=True)"
   ]
  },
  {
   "cell_type": "code",
   "execution_count": 9,
   "metadata": {},
   "outputs": [],
   "source": [
    "device = torch.device(\"cuda\" if torch.cuda.is_available() else \"cpu\")\n",
    "model = BackwardDiffuse()\n",
    "model = model.to(device)\n",
    "criterion = nn.MSELoss()\n",
    "optimizer = optim.AdamW(params=model.parameters(), lr=1e-4, weight_decay=1e-3)"
   ]
  },
  {
   "cell_type": "code",
   "execution_count": null,
   "metadata": {},
   "outputs": [],
   "source": [
    "num_epochs = 250\n",
    "losses = []\n",
    "plt.title('Loss Over Epochs')\n",
    "plt.xlabel('Epoch')\n",
    "plt.ylabel('Loss')\n",
    "\n",
    "for epoch in tqdm(range(num_epochs)):\n",
    "    plt.ylim(bottom=0.0)\n",
    "    plt.show()\n",
    "    model.train()\n",
    "    avg_loss = 0\n",
    "    for images, _ in train_loader:\n",
    "        t = torch.randint(0, T, (len(images),))\n",
    "        noisy_images, noise = forward_diffuse(images, t)\n",
    "        noisy_images, noise = noisy_images.to(device), noise.to(device)\n",
    "            \n",
    "        output = model(noisy_images)\n",
    "        loss = criterion(output, noise)\n",
    "        avg_loss += loss.item()\n",
    "\n",
    "        optimizer.zero_grad()\n",
    "        loss.backward()\n",
    "        optimizer.step()\n",
    "    avg_loss = avg_loss / len(train_loader)\n",
    "    losses.append(avg_loss)\n",
    "    plt.plot(losses, marker='o', linestyle='-', color='b', label='Loss')\n",
    "    clear_output(wait=True)"
   ]
  },
  {
   "cell_type": "code",
   "execution_count": null,
   "metadata": {},
   "outputs": [],
   "source": [
    "def plot_image(tensor):\n",
    "    plt.figure(figsize=(1.25, 1.25))\n",
    "    plt.axis('off')\n",
    "    plt.imshow(tensor.permute(1, 2, 0).numpy())"
   ]
  },
  {
   "cell_type": "code",
   "execution_count": null,
   "metadata": {},
   "outputs": [],
   "source": [
    "with torch.no_grad():\n",
    "    test_image = torch.randn((1, 3, 32, 32)).to(device)\n",
    "    for _ in range(5):\n",
    "        test_image = model(test_image)\n",
    "        plot_image(test_image[0].cpu())"
   ]
  }
 ],
 "metadata": {
  "kernelspec": {
   "display_name": "base",
   "language": "python",
   "name": "python3"
  },
  "language_info": {
   "codemirror_mode": {
    "name": "ipython",
    "version": 3
   },
   "file_extension": ".py",
   "mimetype": "text/x-python",
   "name": "python",
   "nbconvert_exporter": "python",
   "pygments_lexer": "ipython3",
   "version": "3.11.9"
  }
 },
 "nbformat": 4,
 "nbformat_minor": 2
}
